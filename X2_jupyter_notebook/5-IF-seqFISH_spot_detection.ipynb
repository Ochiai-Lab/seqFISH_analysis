{
 "cells": [
  {
   "cell_type": "markdown",
   "metadata": {},
   "source": [
    "# Get directory information"
   ]
  },
  {
   "cell_type": "code",
   "execution_count": 3,
   "metadata": {},
   "outputs": [],
   "source": [
    "import os\n",
    "\n",
    "current_directory = os.getcwd()\n",
    "\n",
    "dir = os.path.dirname(current_directory)\n",
    "#print(dir)"
   ]
  },
  {
   "cell_type": "markdown",
   "metadata": {},
   "source": [
    "# Environment Setup for IF-seqFISH Analysis\n",
    "\n",
    "The below cell imports necessary libraries including Pandas for data manipulation, Cellpose and BigFISH for image processing, NumPy for numerical operations, and SciPy for spatial distance calculations, also displaying the current version of BigFISH, and enabling inline Matplotlib plots for visualization."
   ]
  },
  {
   "cell_type": "code",
   "execution_count": 4,
   "metadata": {},
   "outputs": [
    {
     "name": "stdout",
     "output_type": "stream",
     "text": [
      "Big-FISH version: 0.6.2\n"
     ]
    }
   ],
   "source": [
    "import pandas as pd\n",
    "import os\n",
    "%matplotlib inline\n",
    "from cellpose import io\n",
    "import numpy as np\n",
    "import bigfish\n",
    "import bigfish.stack as stack\n",
    "import bigfish.detection as detection\n",
    "import pandas as pd\n",
    "import numpy as np\n",
    "from scipy.spatial import distance\n",
    "import matplotlib.pyplot as plt\n",
    "print(\"Big-FISH version: {0}\".format(bigfish.__version__))"
   ]
  },
  {
   "cell_type": "markdown",
   "metadata": {},
   "source": [
    "# Directory Creation for IF-seqFISH Analysis\n",
    "\n",
    "The below cell creates a parent directory and a nested output directory for an IF-seqFISH spot determination, using `os.makedirs` with `exist_ok=True` to ensure directories exist without errors if they're already created."
   ]
  },
  {
   "cell_type": "code",
   "execution_count": 5,
   "metadata": {},
   "outputs": [],
   "source": [
    "parent_folder = os.path.join(dir, '1_processed_images')\n",
    "output_folder = os.path.join(dir, '1_processed_images', \"6_IF-seqFISH_spot_determination\")\n",
    "os.makedirs(output_folder, exist_ok=True)"
   ]
  },
  {
   "cell_type": "markdown",
   "metadata": {},
   "source": [
    "# Image Processing for Fluorescence Images\n",
    "\n",
    "The below cell features two functions: `read_target_image_IF` for reading fluorescence images from a specified directory, and `detect` for processing these images to detect and analyze fluorescent spots, outputting results as a DataFrame and saving them as CSV files in a specified output directory."
   ]
  },
  {
   "cell_type": "code",
   "execution_count": 6,
   "metadata": {},
   "outputs": [],
   "source": [
    "def read_target_image_IF(target_folder, fov_n, file_name):\n",
    "    file_seg = os.path.join(target_folder, f'Pos{str(fov_n).zfill(2)}', file_name)\n",
    "    img = io.imread(file_seg)\n",
    "    return img\n",
    "\n",
    "def detect(target_folder, file_name, target, fov, output_folder):\n",
    "\n",
    "    img = read_target_image_IF(target_folder, fov, file_name)\n",
    "    rna_list = img.copy()\n",
    "    rna = np.array(rna_list)\n",
    "    rna_mip = stack.maximum_projection(rna)\n",
    "    \n",
    "    spot_radius_px = detection.get_object_radius_pixel(\n",
    "        voxel_size_nm=(130, 130, 130), \n",
    "        object_radius_nm=(200, 200, 200), \n",
    "        ndim=3)\n",
    "\n",
    "    rna_log = stack.log_filter(rna, sigma=spot_radius_px)\n",
    "\n",
    "    # local maximum detection\n",
    "    mask = detection.local_maximum_detection(rna_log, min_distance=spot_radius_px)\n",
    "\n",
    "    # thresholding\n",
    "    threshold = detection.automated_threshold_setting(rna_log, mask)\n",
    "    spots, b = detection.spots_thresholding(rna_log, mask, 40)\n",
    "\n",
    "    spots_subpixel_crop = detection.fit_subpixel(\n",
    "        image=rna, \n",
    "        spots=spots, \n",
    "        voxel_size=(130, 130, 130),\n",
    "        spot_radius=(200, 200, 200))\n",
    "    \n",
    "    df_if_fov = pd.DataFrame(data={'z_if': spots.T[0], 'y_if': spots.T[1], 'x_if': spots.T[2], 'z_if_s': spots_subpixel_crop.T[0], 'y_if_s': spots_subpixel_crop.T[1], 'x_if_s': spots_subpixel_crop.T[2], 'FOV': fov, 'Target': file_name, 'Target_name': target})\n",
    "    df_if_fov.to_csv(os.path.join(output_folder, f\"IFspot_{file_name}_{fov}.csv\"))\n",
    "\n",
    "    return df_if_fov"
   ]
  },
  {
   "cell_type": "markdown",
   "metadata": {},
   "source": [
    "# Test Run for Spot Determination Analysis\n",
    "\n",
    "The below cell sets up a test run for spot detection in fluorescence images. It iterates over a specified range of fields of view (FOV), applying the `detect` function on each FOV. This function processes an image file (`\"ND80_C2_TyI.tif\"`) for a given target (`\"BRD4\"`) within a specified folder, and stores the analysis results in an output folder."
   ]
  },
  {
   "cell_type": "code",
   "execution_count": 33,
   "metadata": {},
   "outputs": [
    {
     "name": "stderr",
     "output_type": "stream",
     "text": [
      "100%|██████████| 108/108 [00:00<00:00, 780.51it/s]\n",
      "100%|██████████| 127/127 [00:00<00:00, 889.05it/s]\n",
      "100%|██████████| 109/109 [00:00<00:00, 941.12it/s]\n"
     ]
    }
   ],
   "source": [
    "target_folder = os.path.join(parent_folder, \"3_diveded_files\")\n",
    "file_name = \"ND80_C2_TyI.tif\"\n",
    "target = \"BRD4\"\n",
    "\n",
    "for fov in range(1, 4):\n",
    "\n",
    "    df_if_fov = detect(target_folder, file_name, target, fov, output_folder)"
   ]
  },
  {
   "cell_type": "markdown",
   "metadata": {},
   "source": [
    "# Annotation Data for Selected Targets in Fluorescence Images\n",
    "\n",
    "This table in output of below cell, `df_annotation_selected`, presents a mapping between specific target proteins and their associated annotation files. The targets include various proteins and histone marks such as 'KDM1A', 'TCF3', and 'H3K27ac'. Each target is linked to a unique file, which is presumably an image file (in TIFF format) used for further analysis or reference."
   ]
  },
  {
   "cell_type": "code",
   "execution_count": 7,
   "metadata": {},
   "outputs": [
    {
     "data": {
      "text/html": [
       "<div>\n",
       "<style scoped>\n",
       "    .dataframe tbody tr th:only-of-type {\n",
       "        vertical-align: middle;\n",
       "    }\n",
       "\n",
       "    .dataframe tbody tr th {\n",
       "        vertical-align: top;\n",
       "    }\n",
       "\n",
       "    .dataframe thead th {\n",
       "        text-align: right;\n",
       "    }\n",
       "</style>\n",
       "<table border=\"1\" class=\"dataframe\">\n",
       "  <thead>\n",
       "    <tr style=\"text-align: right;\">\n",
       "      <th></th>\n",
       "      <th>target</th>\n",
       "      <th>file_anno</th>\n",
       "    </tr>\n",
       "  </thead>\n",
       "  <tbody>\n",
       "    <tr>\n",
       "      <th>0</th>\n",
       "      <td>KDM1A</td>\n",
       "      <td>ND75_C1_TyI.tif</td>\n",
       "    </tr>\n",
       "    <tr>\n",
       "      <th>1</th>\n",
       "      <td>TCF3</td>\n",
       "      <td>ND76_C1_TyI.tif</td>\n",
       "    </tr>\n",
       "    <tr>\n",
       "      <th>2</th>\n",
       "      <td>SIN3A</td>\n",
       "      <td>ND77_C1_TyI.tif</td>\n",
       "    </tr>\n",
       "    <tr>\n",
       "      <th>3</th>\n",
       "      <td>OTX2</td>\n",
       "      <td>ND79_C1_TyI.tif</td>\n",
       "    </tr>\n",
       "    <tr>\n",
       "      <th>4</th>\n",
       "      <td>CHD4</td>\n",
       "      <td>ND80_C1_TyI.tif</td>\n",
       "    </tr>\n",
       "    <tr>\n",
       "      <th>5</th>\n",
       "      <td>H3K27ac</td>\n",
       "      <td>ND81_C1_TyI.tif</td>\n",
       "    </tr>\n",
       "    <tr>\n",
       "      <th>6</th>\n",
       "      <td>ESRRB</td>\n",
       "      <td>ND76_C2_TyI.tif</td>\n",
       "    </tr>\n",
       "    <tr>\n",
       "      <th>7</th>\n",
       "      <td>MED12</td>\n",
       "      <td>ND78_C2_TyI.tif</td>\n",
       "    </tr>\n",
       "    <tr>\n",
       "      <th>8</th>\n",
       "      <td>BRD4</td>\n",
       "      <td>ND80_C2_TyI.tif</td>\n",
       "    </tr>\n",
       "    <tr>\n",
       "      <th>9</th>\n",
       "      <td>SOX2</td>\n",
       "      <td>ND80_C3_TyI.tif</td>\n",
       "    </tr>\n",
       "  </tbody>\n",
       "</table>\n",
       "</div>"
      ],
      "text/plain": [
       "    target        file_anno\n",
       "0    KDM1A  ND75_C1_TyI.tif\n",
       "1     TCF3  ND76_C1_TyI.tif\n",
       "2    SIN3A  ND77_C1_TyI.tif\n",
       "3     OTX2  ND79_C1_TyI.tif\n",
       "4     CHD4  ND80_C1_TyI.tif\n",
       "5  H3K27ac  ND81_C1_TyI.tif\n",
       "6    ESRRB  ND76_C2_TyI.tif\n",
       "7    MED12  ND78_C2_TyI.tif\n",
       "8     BRD4  ND80_C2_TyI.tif\n",
       "9     SOX2  ND80_C3_TyI.tif"
      ]
     },
     "execution_count": 7,
     "metadata": {},
     "output_type": "execute_result"
    }
   ],
   "source": [
    "df_annotation_selected = pd.DataFrame({\n",
    "    'target': ['KDM1A', 'TCF3', 'SIN3A', 'OTX2', 'CHD4', 'H3K27ac', 'ESRRB', 'MED12', 'BRD4', 'SOX2'],\n",
    "    'file_anno': ['ND75_C1_TyI.tif', 'ND76_C1_TyI.tif', 'ND77_C1_TyI.tif', 'ND79_C1_TyI.tif', 'ND80_C1_TyI.tif', 'ND81_C1_TyI.tif', 'ND76_C2_TyI.tif', 'ND78_C2_TyI.tif', 'ND80_C2_TyI.tif', 'ND80_C3_TyI.tif']\n",
    "})\n",
    "df_annotation_selected"
   ]
  },
  {
   "cell_type": "markdown",
   "metadata": {},
   "source": [
    "# Spot Determination Analysis Across Multiple Targets and FOVs\n",
    "\n",
    "This below cell iterates over pairs of targets and file names from `df_annotation_selected` DataFrame, applying the `detect` function for each target-file pair across a range of fields of view (1 to 3). The `detect` function processes the specified image files, performs spot detection analysis for each target within each FOV, and stores the results in `df_if_fov`."
   ]
  },
  {
   "cell_type": "code",
   "execution_count": 11,
   "metadata": {},
   "outputs": [
    {
     "name": "stderr",
     "output_type": "stream",
     "text": [
      "100%|██████████| 108/108 [00:00<00:00, 954.65it/s]\n",
      "100%|██████████| 127/127 [00:00<00:00, 1083.20it/s]\n",
      "100%|██████████| 109/109 [00:00<00:00, 3913.43it/s]\n",
      "100%|██████████| 108/108 [00:00<00:00, 1518.43it/s]\n",
      "100%|██████████| 127/127 [00:00<00:00, 1314.06it/s]\n",
      "100%|██████████| 109/109 [00:00<00:00, 3798.12it/s]\n",
      "100%|██████████| 108/108 [00:00<00:00, 1238.49it/s]\n",
      "100%|██████████| 127/127 [00:00<00:00, 1281.20it/s]\n",
      "100%|██████████| 109/109 [00:00<00:00, 2931.86it/s]\n",
      "100%|██████████| 108/108 [00:00<00:00, 943.30it/s]\n",
      "100%|██████████| 127/127 [00:00<00:00, 982.24it/s]\n",
      "100%|██████████| 109/109 [00:00<00:00, 3210.89it/s]\n",
      "100%|██████████| 108/108 [00:00<00:00, 1607.23it/s]\n",
      "100%|██████████| 127/127 [00:00<00:00, 1790.06it/s]\n",
      "100%|██████████| 109/109 [00:00<00:00, 1170.80it/s]\n",
      "100%|██████████| 108/108 [00:00<00:00, 1568.33it/s]\n",
      "100%|██████████| 127/127 [00:00<00:00, 1429.03it/s]\n",
      "100%|██████████| 109/109 [00:00<00:00, 2248.40it/s]\n",
      "100%|██████████| 108/108 [00:00<00:00, 1157.59it/s]\n",
      "100%|██████████| 127/127 [00:00<00:00, 1308.55it/s]\n",
      "100%|██████████| 109/109 [00:00<00:00, 2202.83it/s]\n",
      "100%|██████████| 108/108 [00:00<00:00, 1167.84it/s]\n",
      "100%|██████████| 127/127 [00:00<00:00, 1420.06it/s]\n",
      "100%|██████████| 109/109 [00:00<00:00, 1852.41it/s]\n",
      "100%|██████████| 108/108 [00:00<00:00, 1979.25it/s]\n",
      "100%|██████████| 127/127 [00:00<00:00, 1148.62it/s]\n",
      "100%|██████████| 109/109 [00:00<00:00, 2673.44it/s]\n",
      "100%|██████████| 108/108 [00:00<00:00, 1316.10it/s]\n",
      "100%|██████████| 127/127 [00:00<00:00, 1283.69it/s]\n",
      "100%|██████████| 109/109 [00:00<00:00, 2543.39it/s]\n"
     ]
    }
   ],
   "source": [
    "for target, file_name in zip(df_annotation_selected['target'], df_annotation_selected['file_anno']):\n",
    "\n",
    "    for fov in range(1, 4):\n",
    "\n",
    "        df_if_fov = detect(target_folder, file_name, target, fov, output_folder)"
   ]
  },
  {
   "cell_type": "markdown",
   "metadata": {},
   "source": [
    "# Reading and Renaming Columns in DNA Analysis Data\n",
    "\n",
    "The below cell reads a CSV file (`\"seq_DNA-FISH_after_correction_rep1.csv\"`) into a DataFrame `df_dna`, sets the first column as the index, and renames columns for better identification, changing `\"cell\"` to `'IntraFOV_Cell_ID'` and `\"old_finalcellID\"` to `'Cell_ID'`."
   ]
  },
  {
   "cell_type": "code",
   "execution_count": 6,
   "metadata": {},
   "outputs": [],
   "source": [
    "df_dna = pd.read_csv(os.path.join(dir, \"2_analyzed_data\", \"seq_DNA-FISH_after_correction_rep1.csv\"), index_col=0)\n",
    "df_dna.rename(columns={\"cell\": 'IntraFOV_Cell_ID', \"old_finalcellID\": \"Cell_ID\"}, inplace=True)"
   ]
  },
  {
   "cell_type": "markdown",
   "metadata": {},
   "source": [
    "# Fluorescence Image Data Processing and Analysis\n",
    "\n",
    "1. **Function `seg_load`**: Loads a segmented image for a given FOV from a specified directory.\n",
    "\n",
    "2. **Function `extract_segid_cellID`**: Takes DNA data (`df_dna`), IF data (`df_if_fov_2`), and a segmented image (`img_seg`) for a specific FOV, extracting cell ID information from the segmented image and appending it to the IF data DataFrame.\n",
    "\n",
    "3. **Function `extract_each_IF`**: Iterates over a range of FOVs, loads IF data and segmented images, applies `extract_segid_cellID` to associate cell IDs with IF spots, and compiles the data into a single DataFrame."
   ]
  },
  {
   "cell_type": "code",
   "execution_count": 8,
   "metadata": {},
   "outputs": [],
   "source": [
    "def seg_load(fov):\n",
    "    seg_folder = os.path.join(parent_folder, \"4_segmentation\")\n",
    "\n",
    "    FOV_seg = f\"/Pos{fov:02d}/\"\n",
    "    seg_path = seg_folder + str(FOV_seg) + \"02_nuc_seg_human_corrected.tif\"\n",
    "    img_seg = io.imread(seg_path)\n",
    "    return img_seg\n",
    "\n",
    "def extract_segid_cellID(df_dna, df_if_fov_2, img_seg, FOV):\n",
    "\n",
    "    df_if_fov_2.rename(columns={\"Target\": 'Target antibody'}, inplace=True)\n",
    "    for z, y, x in zip(df_if_fov_2['z_if'], df_if_fov_2['y_if'], df_if_fov_2['x_if']):\n",
    "        if(z < img_seg.shape[0] and y < img_seg.shape[1] and x < img_seg.shape[2]):\n",
    "        \n",
    "            value_seg = img_seg[z, y, x]\n",
    "            if value_seg >= 0:\n",
    "                filtered_data = df_dna[(df_dna['IntraFOV_Cell_ID'] == value_seg) & (df_dna['FOV'] == FOV)]\n",
    "\n",
    "                if not filtered_data.empty:\n",
    "                    cell_id = filtered_data['Cell_ID'].values[0]\n",
    "                    df_if_fov_2.loc[(df_if_fov_2['z_if'] == z) & (df_if_fov_2['y_if'] == y) & (df_if_fov_2['x_if'] == x), 'IntraFOV_Cell_ID'] = int(value_seg)\n",
    "                    df_if_fov_2.loc[(df_if_fov_2['z_if'] == z) & (df_if_fov_2['y_if'] == y) & (df_if_fov_2['x_if'] == x), \"Cell_ID\"] = int(cell_id)\n",
    "    df_if_fov_2.dropna(subset=['Cell_ID', 'IntraFOV_Cell_ID'], inplace=True)\n",
    "    df_if_fov_2 = df_if_fov_2[['z_if_s', 'y_if_s', 'x_if_s', 'FOV', 'Target antibody', 'IntraFOV_Cell_ID', 'Cell_ID']].reset_index(drop=True)\n",
    "    df_if_fov_2['x_nm'] = df_if_fov_2['x_if_s']*130\n",
    "    df_if_fov_2['y_nm'] = df_if_fov_2['y_if_s']*130\n",
    "    df_if_fov_2['z_nm'] = df_if_fov_2['z_if_s']*130\n",
    "    df_if_fov_2 = df_if_fov_2.drop(['z_if_s', 'y_if_s', 'x_if_s'], axis=1)\n",
    "    df_if_fov_2 = df_if_fov_2[['FOV', 'IntraFOV_Cell_ID', 'Cell_ID', 'Target antibody', 'x_nm', 'y_nm', 'z_nm']]\n",
    "    df_if_fov_2['IntraFOV_Cell_ID'] = df_if_fov_2['IntraFOV_Cell_ID'].astype(int)\n",
    "    df_if_fov_2['Cell_ID'] = df_if_fov_2['Cell_ID'].astype(int)\n",
    "    df_if_fov_2['x_nm'] = df_if_fov_2['x_nm'].round(2)\n",
    "    df_if_fov_2['y_nm'] = df_if_fov_2['y_nm'].round(2)\n",
    "    df_if_fov_2['z_nm'] = df_if_fov_2['z_nm'].round(2)\n",
    "\n",
    "    return df_if_fov_2\n",
    "\n",
    "def extract_each_IF(if_name, image_name):\n",
    "    \n",
    "    df_if_fov_2_all = pd.DataFrame()\n",
    "    for FOV in range(1, 4):\n",
    "        spot_folder = output_folder\n",
    "        file_name = f\"IFspot_{image_name}_{FOV}.csv\"\n",
    "        df_if_fov = pd.read_csv(os.path.join(spot_folder, file_name), index_col=0)\n",
    "        df_if_fov_2 = df_if_fov.copy()\n",
    "        img_seg = seg_load(FOV)\n",
    "        print(f'Start FOV{FOV}')\n",
    "        df_if_fov_2 = extract_segid_cellID(df_dna, df_if_fov_2, img_seg, FOV)\n",
    "        df_if_fov_2_all = pd.concat([df_if_fov_2_all, df_if_fov_2])\n",
    "\n",
    "    df_if_fov_2_all['Target antibody'] = if_name\n",
    "    \n",
    "    return df_if_fov_2_all"
   ]
  },
  {
   "cell_type": "markdown",
   "metadata": {},
   "source": [
    "# Batch Processing and Exporting Fluorescence Image Data\n",
    "\n",
    "1. **Initializing an Empty DataFrame**: `df_if_fov_2_all_all` is initialized to aggregate data from all iterations.\n",
    "\n",
    "2. **Iterating Over Targets**: The script iterates over rows in `df_annotation_selected`, representing different image targets.\n",
    "\n",
    "3. **Extracting and Saving Data per Target**:\n",
    "   - For each target, `extract_each_IF` function is called, processing image data and returning a DataFrame `df_if_fov_2_all`.\n",
    "   - This DataFrame is then saved as a CSV file named after the target in the `output_folder` directory.\n",
    "\n",
    "4. **Aggregating Data**:\n",
    "   - The data for each target is concatenated into `df_if_fov_2_all_all` for a comprehensive dataset.\n",
    "\n",
    "5. **Saving the Aggregated Data**:\n",
    "   - The complete dataset containing information for all targets is saved as a CSV file, `seq_IF_FISH_3ROIs_TargetAntibody_foci.csv`, in the `final_out` directory."
   ]
  },
  {
   "cell_type": "code",
   "execution_count": 17,
   "metadata": {},
   "outputs": [
    {
     "name": "stdout",
     "output_type": "stream",
     "text": [
      "KDM1A\n"
     ]
    },
    {
     "name": "stderr",
     "output_type": "stream",
     "text": [
      "100%|██████████| 108/108 [00:00<00:00, 4859.15it/s]"
     ]
    },
    {
     "name": "stdout",
     "output_type": "stream",
     "text": [
      "Start FOV1\n"
     ]
    },
    {
     "name": "stderr",
     "output_type": "stream",
     "text": [
      "\n",
      "100%|██████████| 127/127 [00:00<00:00, 4167.43it/s]\n"
     ]
    },
    {
     "name": "stdout",
     "output_type": "stream",
     "text": [
      "Start FOV2\n"
     ]
    },
    {
     "name": "stderr",
     "output_type": "stream",
     "text": [
      "100%|██████████| 109/109 [00:00<00:00, 2994.17it/s]\n"
     ]
    },
    {
     "name": "stdout",
     "output_type": "stream",
     "text": [
      "Start FOV3\n",
      "TCF3\n"
     ]
    },
    {
     "name": "stderr",
     "output_type": "stream",
     "text": [
      "100%|██████████| 108/108 [00:00<00:00, 3154.64it/s]"
     ]
    },
    {
     "name": "stdout",
     "output_type": "stream",
     "text": [
      "Start FOV1\n"
     ]
    },
    {
     "name": "stderr",
     "output_type": "stream",
     "text": [
      "\n",
      "100%|██████████| 127/127 [00:00<00:00, 2365.25it/s]\n"
     ]
    },
    {
     "name": "stdout",
     "output_type": "stream",
     "text": [
      "Start FOV2\n"
     ]
    },
    {
     "name": "stderr",
     "output_type": "stream",
     "text": [
      "100%|██████████| 109/109 [00:00<00:00, 3847.40it/s]\n"
     ]
    },
    {
     "name": "stdout",
     "output_type": "stream",
     "text": [
      "Start FOV3\n",
      "SIN3A\n"
     ]
    },
    {
     "name": "stderr",
     "output_type": "stream",
     "text": [
      "100%|██████████| 108/108 [00:00<00:00, 1935.08it/s]"
     ]
    },
    {
     "name": "stdout",
     "output_type": "stream",
     "text": [
      "Start FOV1\n"
     ]
    },
    {
     "name": "stderr",
     "output_type": "stream",
     "text": [
      "\n",
      "100%|██████████| 127/127 [00:00<00:00, 2549.12it/s]\n"
     ]
    },
    {
     "name": "stdout",
     "output_type": "stream",
     "text": [
      "Start FOV2\n"
     ]
    },
    {
     "name": "stderr",
     "output_type": "stream",
     "text": [
      "100%|██████████| 109/109 [00:00<00:00, 5384.09it/s]\n"
     ]
    },
    {
     "name": "stdout",
     "output_type": "stream",
     "text": [
      "Start FOV3\n",
      "OTX2\n"
     ]
    },
    {
     "name": "stderr",
     "output_type": "stream",
     "text": [
      "100%|██████████| 108/108 [00:00<00:00, 4974.25it/s]"
     ]
    },
    {
     "name": "stdout",
     "output_type": "stream",
     "text": [
      "Start FOV1\n"
     ]
    },
    {
     "name": "stderr",
     "output_type": "stream",
     "text": [
      "\n",
      "100%|██████████| 127/127 [00:00<00:00, 2576.35it/s]\n"
     ]
    },
    {
     "name": "stdout",
     "output_type": "stream",
     "text": [
      "Start FOV2\n"
     ]
    },
    {
     "name": "stderr",
     "output_type": "stream",
     "text": [
      "100%|██████████| 109/109 [00:00<00:00, 5816.45it/s]\n"
     ]
    },
    {
     "name": "stdout",
     "output_type": "stream",
     "text": [
      "Start FOV3\n",
      "CHD4\n"
     ]
    },
    {
     "name": "stderr",
     "output_type": "stream",
     "text": [
      "100%|██████████| 108/108 [00:00<00:00, 5798.28it/s]\n"
     ]
    },
    {
     "name": "stdout",
     "output_type": "stream",
     "text": [
      "Start FOV1\n"
     ]
    },
    {
     "name": "stderr",
     "output_type": "stream",
     "text": [
      "100%|██████████| 127/127 [00:00<00:00, 4066.17it/s]"
     ]
    },
    {
     "name": "stdout",
     "output_type": "stream",
     "text": [
      "Start FOV2\n"
     ]
    },
    {
     "name": "stderr",
     "output_type": "stream",
     "text": [
      "\n",
      "100%|██████████| 109/109 [00:00<00:00, 6182.19it/s]\n"
     ]
    },
    {
     "name": "stdout",
     "output_type": "stream",
     "text": [
      "Start FOV3\n",
      "H3K27ac\n"
     ]
    },
    {
     "name": "stderr",
     "output_type": "stream",
     "text": [
      "100%|██████████| 108/108 [00:00<00:00, 2518.09it/s]"
     ]
    },
    {
     "name": "stdout",
     "output_type": "stream",
     "text": [
      "Start FOV1\n"
     ]
    },
    {
     "name": "stderr",
     "output_type": "stream",
     "text": [
      "\n",
      "100%|██████████| 127/127 [00:00<00:00, 3551.15it/s]\n"
     ]
    },
    {
     "name": "stdout",
     "output_type": "stream",
     "text": [
      "Start FOV2\n"
     ]
    },
    {
     "name": "stderr",
     "output_type": "stream",
     "text": [
      "100%|██████████| 109/109 [00:00<00:00, 5764.02it/s]\n"
     ]
    },
    {
     "name": "stdout",
     "output_type": "stream",
     "text": [
      "Start FOV3\n",
      "ESRRB\n"
     ]
    },
    {
     "name": "stderr",
     "output_type": "stream",
     "text": [
      "100%|██████████| 108/108 [00:00<00:00, 6101.13it/s]"
     ]
    },
    {
     "name": "stdout",
     "output_type": "stream",
     "text": [
      "Start FOV1\n"
     ]
    },
    {
     "name": "stderr",
     "output_type": "stream",
     "text": [
      "\n",
      "100%|██████████| 127/127 [00:00<00:00, 4229.10it/s]\n"
     ]
    },
    {
     "name": "stdout",
     "output_type": "stream",
     "text": [
      "Start FOV2\n"
     ]
    },
    {
     "name": "stderr",
     "output_type": "stream",
     "text": [
      "100%|██████████| 109/109 [00:00<00:00, 5724.04it/s]\n"
     ]
    },
    {
     "name": "stdout",
     "output_type": "stream",
     "text": [
      "Start FOV3\n",
      "MED12\n"
     ]
    },
    {
     "name": "stderr",
     "output_type": "stream",
     "text": [
      "100%|██████████| 108/108 [00:00<00:00, 5223.71it/s]"
     ]
    },
    {
     "name": "stdout",
     "output_type": "stream",
     "text": [
      "Start FOV1\n"
     ]
    },
    {
     "name": "stderr",
     "output_type": "stream",
     "text": [
      "\n",
      "100%|██████████| 127/127 [00:00<00:00, 4337.47it/s]\n"
     ]
    },
    {
     "name": "stdout",
     "output_type": "stream",
     "text": [
      "Start FOV2\n"
     ]
    },
    {
     "name": "stderr",
     "output_type": "stream",
     "text": [
      "100%|██████████| 109/109 [00:00<00:00, 5642.52it/s]\n"
     ]
    },
    {
     "name": "stdout",
     "output_type": "stream",
     "text": [
      "Start FOV3\n",
      "BRD4\n"
     ]
    },
    {
     "name": "stderr",
     "output_type": "stream",
     "text": [
      "100%|██████████| 108/108 [00:00<00:00, 5779.05it/s]"
     ]
    },
    {
     "name": "stdout",
     "output_type": "stream",
     "text": [
      "Start FOV1\n"
     ]
    },
    {
     "name": "stderr",
     "output_type": "stream",
     "text": [
      "\n",
      "100%|██████████| 127/127 [00:00<00:00, 3410.81it/s]\n"
     ]
    },
    {
     "name": "stdout",
     "output_type": "stream",
     "text": [
      "Start FOV2\n"
     ]
    },
    {
     "name": "stderr",
     "output_type": "stream",
     "text": [
      "100%|██████████| 109/109 [00:00<00:00, 4805.68it/s]\n"
     ]
    },
    {
     "name": "stdout",
     "output_type": "stream",
     "text": [
      "Start FOV3\n",
      "SOX2\n"
     ]
    },
    {
     "name": "stderr",
     "output_type": "stream",
     "text": [
      "100%|██████████| 108/108 [00:00<00:00, 5929.35it/s]\n"
     ]
    },
    {
     "name": "stdout",
     "output_type": "stream",
     "text": [
      "Start FOV1\n"
     ]
    },
    {
     "name": "stderr",
     "output_type": "stream",
     "text": [
      "100%|██████████| 127/127 [00:00<00:00, 4635.48it/s]"
     ]
    },
    {
     "name": "stdout",
     "output_type": "stream",
     "text": [
      "Start FOV2\n"
     ]
    },
    {
     "name": "stderr",
     "output_type": "stream",
     "text": [
      "\n",
      "100%|██████████| 109/109 [00:00<00:00, 5267.47it/s]"
     ]
    },
    {
     "name": "stdout",
     "output_type": "stream",
     "text": [
      "Start FOV3\n"
     ]
    },
    {
     "name": "stderr",
     "output_type": "stream",
     "text": [
      "\n"
     ]
    }
   ],
   "source": [
    "df_if_fov_2_all_all = pd.DataFrame()\n",
    "for row in df_annotation_selected.itertuples():\n",
    "    print(row[1])\n",
    "    df_if_fov_2_all = extract_each_IF(row[1], row[2])\n",
    "    df_if_fov_2_all.to_csv(f'{output_folder}/{row[1]}_foci.csv', index=False)\n",
    "    \n",
    "    df_if_fov_2_all_all = pd.concat([df_if_fov_2_all_all, df_if_fov_2_all])\n",
    "\n",
    "final_out = os.path.join(dir, '2_analyzed_data')\n",
    "df_if_fov_2_all_all.to_csv(f'{final_out}/seq_IF_FISH_3ROIs_TargetAntibody_foci.csv', index=False)"
   ]
  },
  {
   "cell_type": "markdown",
   "metadata": {},
   "source": [
    "# Fluorescence Imaging Data Processing Functions\n",
    "\n",
    "The below cell contains `pix_To_nm` for converting pixel coordinates to nanometers in a DataFrame, and `func_index_dis_min_3d_if` for identifying indices of points in 3D space within a specified distance threshold, applicable in fluorescence imaging analysis."
   ]
  },
  {
   "cell_type": "code",
   "execution_count": 9,
   "metadata": {},
   "outputs": [],
   "source": [
    "output_folder_2 = os.path.join(parent_folder, \"7_IF-seqFISH_spot_contact\")\n",
    "os.makedirs(output_folder_2, exist_ok=True)"
   ]
  },
  {
   "cell_type": "code",
   "execution_count": 10,
   "metadata": {},
   "outputs": [],
   "source": [
    "def pix_To_nm(df_dna):\n",
    "    df_dna['x_hat'] = df_dna['x_hat'] * 130\n",
    "    df_dna['y_hat'] = df_dna['y_hat'] * 130\n",
    "    df_dna['z_hat'] = df_dna['z_hat'] * 130\n",
    "    return df_dna\n",
    "\n",
    "def func_index_dis_min_3d_if(z, x, y, z_l, x_l, y_l, threshold=350):\n",
    "    dis_spot = []\n",
    "    \n",
    "    for Z, X, Y in zip(z_l, x_l, y_l):\n",
    "        dis = distance.euclidean((z, x, y), (Z, X, Y))\n",
    "        dis_spot.append(dis)\n",
    "    \n",
    "    min_indices = [i for i, dis in enumerate(dis_spot) if dis <= threshold]\n",
    "    \n",
    "    if not min_indices:\n",
    "        return None, None  # No points within the threshold\n",
    "    \n",
    "    return min_indices"
   ]
  },
  {
   "cell_type": "markdown",
   "metadata": {},
   "source": [
    "# Processing Fluorescence Imaging Data for DNA and RNA, and IF Spots\n",
    "\n",
    "1. **Read and Rename Columns in DNA Data**:\n",
    "   - `df_dna` is created by reading a CSV file from a specified directory, setting the first column as the index.\n",
    "   - Columns are renamed for clarity: `\"cell\"` to `'IntraFOV_Cell_ID'` and `\"old_finalcellID\"` to `'Cell_ID'`.\n",
    "\n",
    "2. **Read and Process RNA Data**:\n",
    "   - `df_rna` is read from a CSV file, with the first column set as the index.\n",
    "   - Column `\"cell\"` is renamed to `'IntraFOV_Cell_ID'`.\n",
    "   - The dataset is filtered to include rows where `'R_D_dist'` is less than 30.\n",
    "   - A subset `df_rna_nanog` is created for rows where `'RNA_id'` is equal to `\"Nanog\"`.\n",
    "   - `df_dna` is updated to include a `'state'` column, initially set to `\"OFF\"`. This state is set to `\"ON\"` for cells with matching `'finalcellID'` in `df_rna_nanog`.\n",
    "\n",
    "3. **Coordinate Conversion for DNA Data**:\n",
    "   - The `pix_To_nm` function is applied to `df_dna` to convert pixel coordinates to nanometers.\n",
    "\n",
    "4. **Read IF Spot Data**:\n",
    "   - `df_if_spots` is initialized by reading another CSV file from a different specified directory, containing IF spot data.\n",
    "\n",
    "5. **Filter IF Data for a Specific Target Antibody**:\n",
    "   - `df_if_h3k27ac` is created by filtering `df_if_spots` for the `'H3K27ac'` target antibody and resetting the index.\n"
   ]
  },
  {
   "cell_type": "code",
   "execution_count": 11,
   "metadata": {},
   "outputs": [],
   "source": [
    "df_dna = pd.read_csv(os.path.join(dir, \"2_analyzed_data\", \"seq_DNA-FISH_after_correction_rep1.csv\"), index_col=0)\n",
    "df_dna.rename(columns={\"cell\": 'IntraFOV_Cell_ID', \"old_finalcellID\": \"Cell_ID\"}, inplace=True)\n",
    "\n",
    "df_rna = pd.read_csv(os.path.join(dir, \"2_analyzed_data\", \"Transcription_state_data_rep1.csv\"), index_col=0)\n",
    "df_rna.rename(columns={\"cell\": 'IntraFOV_Cell_ID'}, inplace=True)\n",
    "df_rna = df_rna[df_rna['R_D_dist'] < 30]\n",
    "df_rna_nanog = df_rna[df_rna['RNA_id'] == \"Nanog\"]"
   ]
  },
  {
   "cell_type": "code",
   "execution_count": 12,
   "metadata": {},
   "outputs": [],
   "source": [
    "df_dna['state'] = \"OFF\"\n",
    "for on_id in df_rna_nanog['finalcellID'].values:\n",
    "   on_id = int(on_id)\n",
    "   df_dna.loc[df_dna['finalcellID'] == on_id, 'state'] = 'ON'"
   ]
  },
  {
   "cell_type": "code",
   "execution_count": 13,
   "metadata": {},
   "outputs": [],
   "source": [
    "df_dna = pix_To_nm(df_dna)\n",
    "\n",
    "accessory_input = os.path.join(dir, 'X1_accessory_data')\n",
    "\n",
    "df_if_spots = pd.read_csv(os.path.join(accessory_input, \"seq_IF_FISH_All_H3K37ac_foci.csv\"))\n",
    "\n",
    "df_if_h3k27ac = df_if_spots[df_if_spots['Target antibody'] == 'H3K27ac'].reset_index(drop=True)"
   ]
  },
  {
   "cell_type": "markdown",
   "metadata": {},
   "source": [
    "# Correlation of DNA and IF Spots in Fluorescence Imaging Analysis\n",
    "\n",
    "1. **Iterating Over Unique FOVs**:\n",
    "   - The script processes each unique FOV in `df_if_h3k27ac`.\n",
    "\n",
    "2. **Filtering and Processing by HYB**:\n",
    "   - For each FOV, it iterates through a range of HYB values (40 to 65), filtering `df_dna` accordingly.\n",
    "\n",
    "3. **Spot Matching and Distance Calculation**:\n",
    "   - Within each HYB, the script matches `df_if_h3k27ac_fov` entries based on `Cell_ID`.\n",
    "   - Calculates the 3D distance between DNA and IF spots using `func_index_dis_min_3d_if`.\n",
    "\n",
    "4. **Updating DNA DataFrame**:\n",
    "   - Adds information about the indices of IF spots within a threshold distance to `df_dna`.\n",
    "\n",
    "5. **Output to CSV**:\n",
    "   - The updated `df_dna` DataFrame, containing the matched index information, is saved as a CSV file."
   ]
  },
  {
   "cell_type": "code",
   "execution_count": 24,
   "metadata": {},
   "outputs": [
    {
     "name": "stdout",
     "output_type": "stream",
     "text": [
      "1\n",
      "2\n",
      "3\n",
      "4\n",
      "5\n",
      "6\n",
      "7\n",
      "8\n",
      "9\n",
      "10\n",
      "11\n",
      "12\n",
      "13\n",
      "14\n",
      "15\n",
      "16\n",
      "17\n",
      "18\n",
      "19\n",
      "20\n",
      "21\n",
      "22\n",
      "23\n",
      "24\n",
      "25\n",
      "26\n",
      "27\n",
      "28\n",
      "29\n",
      "30\n"
     ]
    }
   ],
   "source": [
    "for FOV in df_if_h3k27ac['FOV'].unique():\n",
    "    print(FOV)\n",
    "    df_if_h3k27ac_fov = df_if_h3k27ac[df_if_h3k27ac['FOV'] == FOV].reset_index(drop=True)\n",
    "\n",
    "    for HYB in range(40, 66):\n",
    "        df_dna_fov = df_dna[(df_dna['FOV'] == FOV) & (df_dna['hyb'] == HYB)]\n",
    "\n",
    "        for row in df_dna_fov.itertuples():\n",
    "            cell_id = row.Cell_ID\n",
    "            df_if_h3k27ac_fov_matched = df_if_h3k27ac_fov[df_if_h3k27ac_fov['Cell_ID'] == cell_id]\n",
    "\n",
    "            x_d, y_d, z_d = row.x_hat, row.y_hat, row.z_hat \n",
    "\n",
    "            if not df_if_h3k27ac_fov_matched.empty:\n",
    "                index_info = func_index_dis_min_3d_if(z_d, x_d, y_d, \n",
    "                                                      df_if_h3k27ac_fov_matched['z_nm'].values, \n",
    "                                                      df_if_h3k27ac_fov_matched['x_nm'].values, \n",
    "                                                      df_if_h3k27ac_fov_matched['y_nm'].values)\n",
    "                if None not in index_info:\n",
    "                    index_info_str = ', '.join(map(str, index_info))\n",
    "                    df_dna.loc[(df_dna['hyb'] == row.hyb) & (df_dna['FOV'] == row.FOV) & \n",
    "                               (df_dna['x_hat'] == x_d) & (df_dna['y_hat'] == y_d), \n",
    "                               'index_list_thre'] = index_info_str\n",
    "\n",
    "# Output to CSV\n",
    "df_dna.to_csv(os.path.join(output_folder_2, \"Spots_index_thre350_H3K27ac.csv\"))"
   ]
  },
  {
   "cell_type": "markdown",
   "metadata": {},
   "source": [
    "# Comprehensive Data Processing and Visualization for contact frequency\n",
    "\n",
    "1. **Function `optimized_dist_improved`**: Calculates distance matrices for samples based on unique identifiers and XYZ data, handling both numeric and string data types.\n",
    "\n",
    "2. **Matplotlib Configuration**: Sets global font styles and creates a custom colormap for heatmap visualization.\n",
    "\n",
    "3. **Data Preparation Functions**:\n",
    "   - `data_in`: Extracts and formats data from a DataFrame for processing.\n",
    "   - `plt_matrix`: Generates a heatmap from a given matrix, allowing customization of color scales and axis labels.\n",
    "   - `np_mean`: Computes the mean of distances across samples for each pair of indices.\n",
    "\n",
    "4. **Function `out_data_matrix`**: Orchestrates the process of data extraction, distance calculation, and mean computation, returning the distance matrix and its mean."
   ]
  },
  {
   "cell_type": "code",
   "execution_count": 14,
   "metadata": {},
   "outputs": [],
   "source": [
    "df_dna_40_66 = df_dna[df_dna[\"hyb\"].isin(range(40, 66))]\n",
    "df_dna_40_66 = df_dna_40_66[[\"hyb\", \"geneID\"]].reset_index(drop=True)\n",
    "df_dna_40_66_unique = df_dna_40_66.drop_duplicates()"
   ]
  },
  {
   "cell_type": "code",
   "execution_count": 30,
   "metadata": {},
   "outputs": [
    {
     "name": "stderr",
     "output_type": "stream",
     "text": [
      "/tmp/ipykernel_2603/3027148178.py:29: MatplotlibDeprecationWarning: The get_cmap function was deprecated in Matplotlib 3.7 and will be removed two minor releases later. Use ``matplotlib.colormaps[name]`` or ``matplotlib.colormaps.get_cmap(obj)`` instead.\n",
      "  cmap = plt.cm.get_cmap(\"seismic_r\").copy()\n"
     ]
    }
   ],
   "source": [
    "def optimized_dist_improved(data_IDs, data_XYZ):\n",
    "    SAMPLE = np.unique(data_IDs[:,0])\n",
    "    SAMPLE_num = len(SAMPLE)\n",
    "    N = np.amax(data_IDs[:, 1]) + 1\n",
    "\n",
    "    distance = np.full((N, N, SAMPLE_num), 0.0) #np.nan)\n",
    "    for num, sample in enumerate(SAMPLE):\n",
    "        index = np.where(data_IDs[:, 0] == sample)\n",
    "        if len(index[0]) > 1:\n",
    "            for i in index[0]:\n",
    "                n = data_IDs[i, 1]\n",
    "                data_XYZ_i = data_XYZ[i, 0]  # Store value to avoid repeated indexing\n",
    "                for j in index[0]:\n",
    "                    m = data_IDs[j, 1]\n",
    "                    data_XYZ_j = data_XYZ[j, 0]  # Store value to avoid repeated indexing\n",
    "\n",
    "                    if all(isinstance(value, (int, float, str)) for value in [data_XYZ_i, data_XYZ_j]):\n",
    "                        if not pd.isnull(data_XYZ_i) and not pd.isnull(data_XYZ_j):\n",
    "                            if isinstance(data_XYZ_i, str) and any(x in data_XYZ_j.split(', ') for x in data_XYZ_i.split(', ')):\n",
    "                                distance[n, m, num] = 1\n",
    "                            elif data_XYZ_i == data_XYZ_j:\n",
    "                                distance[n, m, num] = 1\n",
    "            np.fill_diagonal(distance[:, :, num], np.nan)\n",
    "    mean = np_mean(distance, data_IDs)\n",
    "\n",
    "    return mean\n",
    "\n",
    "plt.rcParams[\"font.size\"] = 36\n",
    "cmap = plt.cm.get_cmap(\"seismic_r\").copy()\n",
    "cmap.set_bad(\"gray\")\n",
    "\n",
    "def data_in(df):\n",
    "    df_IDs = df[[\"finalcellID\", \"hyb\"]]\n",
    "    df_XYZ = df[[\"index_list_thre\"]]\n",
    "    data_IDs = df_IDs.values\n",
    "    data_XYZ = df_XYZ.values\n",
    "    return data_IDs, data_XYZ\n",
    "\n",
    "def plt_matrix(Sigma, C_MIN=None, C_MAX=None, c = \"seismic_r\", state = \"ON\"):\n",
    "    #C_MAX = 0.2\n",
    "    if(C_MIN == None):\n",
    "        C_MIN = np.nanmin(Sigma)\n",
    "    \n",
    "    if(C_MAX == None):\n",
    "        C_MAX = np.nanmax(Sigma)\n",
    "\n",
    "    np.fill_diagonal(Sigma, np.nan)\n",
    "\n",
    "    cmap = plt.cm.get_cmap(f\"{c}\").copy()\n",
    "    cmap.set_bad(\"gray\")\n",
    "\n",
    "    plt.rcParams[\"font.size\"] = 20\n",
    "\n",
    "    C = Sigma\n",
    "    N = Sigma.shape[0]\n",
    "    plt.figure(figsize=(10, 10))\n",
    "    plt.title(f\"Contact frequency at 25 kb resoltuion ({state})\")\n",
    "    plt.imshow(C, cmap=cmap, vmin=C_MIN, vmax=C_MAX)\n",
    "    plt.colorbar(ticks=[C_MIN, C_MAX], shrink=0.5, orientation=\"vertical\")\n",
    "\n",
    "    #df_axis = df_axis.sort_values(by=\"hyb\")\n",
    "\n",
    "    #plt.xticks(np.arange(N), df_axis['hyb'], fontsize=12) \n",
    "    #plt.gca().tick_params(axis='x', which='both', length=0) # 40から66までの数字を表示\n",
    "    #plt.yticks(np.arange(N), df_axis[\"geneID\"], fontsize=12)\n",
    "    #plt.gca().tick_params(axis='y', which='both', length=0)\n",
    "    plt.xticks([])\n",
    "    plt.yticks([])\n",
    "    \n",
    "\n",
    "    return C_MAX\n",
    "\n",
    "def np_mean(distance, data_IDs):\n",
    "    N = np.amax(data_IDs[:, 1]) + 1\n",
    "    Sigma = np.zeros((N, N))\n",
    "    for n in range(N):\n",
    "        for m in range(n + 1, N):\n",
    "            Sigma[n, m] = Sigma[m, n] = np.nanmean(distance[n, m, :])\n",
    "\n",
    "    return Sigma\n",
    "\n",
    "def out_data_matrix(df_dna_new):\n",
    "    data_IDs, data_XYZ = data_in(df_dna_new)\n",
    "    mean = optimized_dist_improved(data_IDs, data_XYZ)\n",
    "    return mean"
   ]
  },
  {
   "cell_type": "markdown",
   "metadata": {},
   "source": [
    "# Fluorescence Imaging Data Analysis for 'ON' and 'OFF' States\n",
    "\n",
    "1. **Read Annotated DNA Data**:\n",
    "   - `df_dna_anno` is created by reading a CSV file that contains annotated DNA spot data.\n",
    "\n",
    "2. **Filtering Data Based on State**:\n",
    "   - `df_dna_anno_on`: Filters `df_dna_anno` to include only entries where the state is 'ON'.\n",
    "   - `df_dna_anno_off`: Similarly, filters for entries where the state is 'OFF'.\n",
    "\n",
    "3. **Applying Data Processing Functions**:\n",
    "   - Both subsets (`df_dna_anno_on` and `df_dna_anno_off`) are processed using the `out_data_matrix` function, which returns distance matrices and their means.\n",
    "\n",
    "4. **Extracting Relevant Data Range**:\n",
    "   - `mean_on_2` and `mean_off_2`: Extracts a specific range (indices 40 to 65) from the mean matrices of both 'ON' and 'OFF' states for focused analysis."
   ]
  },
  {
   "cell_type": "code",
   "execution_count": 16,
   "metadata": {},
   "outputs": [],
   "source": [
    "df_dna_anno = pd.read_csv(os.path.join(output_folder_2, f\"Spots_index_thre350_H3K27ac.csv\"), index_col=0)\n",
    "df_dna_anno_on = df_dna_anno[df_dna_anno['state'] == 'ON']\n",
    "df_dna_anno_off = df_dna_anno[df_dna_anno['state'] == 'OFF']\n",
    "\n",
    "mean_on = out_data_matrix(df_dna_anno_on)\n",
    "mean_off = out_data_matrix(df_dna_anno_off)\n",
    "\n",
    "mean_on_2 = mean_on[40:66, 40:66]\n",
    "mean_off_2 = mean_off[40:66, 40:66]"
   ]
  },
  {
   "cell_type": "markdown",
   "metadata": {},
   "source": [
    "# Visualization of frequency for 'ON' and 'OFF' States\n",
    "\n",
    "The below cell visualizes the mean frequency matrices `mean_on_2` and `mean_off_2` using the `plt_matrix` function. It creates heatmaps for both 'ON' and 'OFF' states with the following specifications:\n",
    "- Color map set to `\"seismic\"`.\n",
    "- Maximum color range value (`C_MAX`) set to 0.3.\n",
    "- Minimum color range value (`C_MIN`) automatically determined."
   ]
  },
  {
   "cell_type": "code",
   "execution_count": 31,
   "metadata": {},
   "outputs": [
    {
     "name": "stderr",
     "output_type": "stream",
     "text": [
      "/tmp/ipykernel_2603/3027148178.py:49: MatplotlibDeprecationWarning: The get_cmap function was deprecated in Matplotlib 3.7 and will be removed two minor releases later. Use ``matplotlib.colormaps[name]`` or ``matplotlib.colormaps.get_cmap(obj)`` instead.\n",
      "  cmap = plt.cm.get_cmap(f\"{c}\").copy()\n"
     ]
    },
    {
     "data": {
      "text/plain": [
       "0.3"
      ]
     },
     "execution_count": 31,
     "metadata": {},
     "output_type": "execute_result"
    },
    {
     "data": {
      "image/png": "[encoded data removed]",
      "text/plain": [
       "<Figure size 1000x1000 with 2 Axes>"
      ]
     },
     "metadata": {},
     "output_type": "display_data"
    },
    {
     "data": {
      "image/png": "[encoded data removed]",
      "text/plain": [
       "<Figure size 1000x1000 with 2 Axes>"
      ]
     },
     "metadata": {},
     "output_type": "display_data"
    }
   ],
   "source": [
    "plt_matrix(mean_on_2, C_MIN=0.0, C_MAX=0.3, c = \"seismic\", state=\"ON\")\n",
    "plt_matrix(mean_off_2, C_MIN=0.0, C_MAX=0.3, c = \"seismic\", state=\"OFF\")"
   ]
  },
  {
   "cell_type": "code",
   "execution_count": 32,
   "metadata": {},
   "outputs": [
    {
     "name": "stderr",
     "output_type": "stream",
     "text": [
      "/tmp/ipykernel_2603/3027148178.py:49: MatplotlibDeprecationWarning: The get_cmap function was deprecated in Matplotlib 3.7 and will be removed two minor releases later. Use ``matplotlib.colormaps[name]`` or ``matplotlib.colormaps.get_cmap(obj)`` instead.\n",
      "  cmap = plt.cm.get_cmap(f\"{c}\").copy()\n"
     ]
    },
    {
     "data": {
      "text/plain": [
       "0.3"
      ]
     },
     "execution_count": 32,
     "metadata": {},
     "output_type": "execute_result"
    },
    {
     "data": {
      "image/png": "[encoded data removed]",
      "text/plain": [
       "<Figure size 1000x1000 with 2 Axes>"
      ]
     },
     "metadata": {},
     "output_type": "display_data"
    },
    {
     "data": {
      "image/png": "[encoded data removed]",
      "text/plain": [
       "<Figure size 1000x1000 with 2 Axes>"
      ]
     },
     "metadata": {},
     "output_type": "display_data"
    }
   ],
   "source": [
    "plt_matrix(mean_on_2, C_MIN=0.0, C_MAX=0.3, c = \"magma_r\", state=\"ON\")\n",
    "plt_matrix(mean_off_2, C_MIN=0.0, C_MAX=0.3, c = \"magma_r\", state=\"OFF\")"
   ]
  },
  {
   "cell_type": "code",
   "execution_count": null,
   "metadata": {},
   "outputs": [],
   "source": []
  }
 ],
 "metadata": {
  "kernelspec": {
   "display_name": "base",
   "language": "python",
   "name": "python3"
  },
  "language_info": {
   "codemirror_mode": {
    "name": "ipython",
    "version": 3
   },
   "file_extension": ".py",
   "mimetype": "text/x-python",
   "name": "python",
   "nbconvert_exporter": "python",
   "pygments_lexer": "ipython3",
   "version": "3.8.18"
  }
 },
 "nbformat": 4,
 "nbformat_minor": 2
}
